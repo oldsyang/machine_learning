{
 "cells": [
  {
   "cell_type": "markdown",
   "metadata": {},
   "source": [
    "## 超参数"
   ]
  },
  {
   "cell_type": "markdown",
   "metadata": {},
   "source": [
    "> 在机器学习的上下文中，超参数是在开始学习过程之前设置值的参数，而不是通过训练得到的参数数据。通常情况下，需要对超参数进行优化，给学习机选择一组最优超参数，以提高学习的性能和效果"
   ]
  },
  {
   "cell_type": "markdown",
   "metadata": {},
   "source": [
    "[方差，标准差，平均值](https://www.cnblogs.com/quietwalk/p/8243536.html)"
   ]
  },
  {
   "cell_type": "markdown",
   "metadata": {},
   "source": [
    "1. 超参数：在算法运行前需要决定的参数\n",
    "2. 模型参数：算法过程中学习的参数"
   ]
  },
  {
   "cell_type": "markdown",
   "metadata": {},
   "source": [
    "3. knn没有算法模型参数\n",
    "4. knn算法中的k是典型的超参数"
   ]
  },
  {
   "cell_type": "markdown",
   "metadata": {},
   "source": [
    "***一般我们常说的机器学习的调参指的就是超参数***"
   ]
  },
  {
   "cell_type": "markdown",
   "metadata": {},
   "source": [
    "### 寻找最好的k"
   ]
  },
  {
   "cell_type": "code",
   "execution_count": 10,
   "metadata": {},
   "outputs": [],
   "source": [
    "import numpy as np\n",
    "import matplotlib\n",
    "import matplotlib.pyplot as plt\n",
    "from sklearn import datasets\n",
    "from sklearn.model_selection import train_test_split\n",
    "from sklearn.neighbors import KNeighborsClassifier"
   ]
  },
  {
   "cell_type": "code",
   "execution_count": 12,
   "metadata": {},
   "outputs": [],
   "source": [
    "digits = datasets.load_digits()\n",
    "X = digits.data\n",
    "y = digits.target\n",
    "X_train, X_test, y_train, y_test = train_test_split(X, y, test_size=0.2, random_state=33)"
   ]
  },
  {
   "cell_type": "code",
   "execution_count": 13,
   "metadata": {},
   "outputs": [],
   "source": [
    "best_score = 0.0\n",
    "best_k = 1"
   ]
  },
  {
   "cell_type": "code",
   "execution_count": 4,
   "metadata": {},
   "outputs": [],
   "source": [
    "from sklearn.metrics import accuracy_score"
   ]
  },
  {
   "cell_type": "code",
   "execution_count": 15,
   "metadata": {},
   "outputs": [
    {
     "data": {
      "text/plain": [
       "5"
      ]
     },
     "execution_count": 15,
     "metadata": {},
     "output_type": "execute_result"
    }
   ],
   "source": [
    "for k in range(1, 11):\n",
    "    knn_clf = KNeighborsClassifier(k)\n",
    "    knn_clf.fit(X_train, y_train)\n",
    "    score = knn_clf.score(X_test, y_test)\n",
    "    if score > best_score:\n",
    "        best_k = k\n",
    "        best_score = score\n",
    "best_k"
   ]
  },
  {
   "cell_type": "code",
   "execution_count": 16,
   "metadata": {},
   "outputs": [
    {
     "data": {
      "text/plain": [
       "0.9861111111111112"
      ]
     },
     "execution_count": 16,
     "metadata": {},
     "output_type": "execute_result"
    }
   ],
   "source": [
    "best_score"
   ]
  },
  {
   "cell_type": "markdown",
   "metadata": {},
   "source": [
    "这就是机器学习中的调参数，如果best_k的值接近于11，那我们就应该继续拓展调参范围，如best_k为8，则继续调试8到20这个范围的值"
   ]
  },
  {
   "cell_type": "markdown",
   "metadata": {},
   "source": [
    "在k近邻算法中还有一个重要的超参数就是距离的权重，比如：如果k为3，其中刚好有两个良性（蓝色）和一个恶心肿瘤（红色），如果只考虑k的话，则该是良性的，但是恶心的距离是最短的，所以预测点是恶心的可能性也很大"
   ]
  },
  {
   "cell_type": "markdown",
   "metadata": {},
   "source": [
    "这样就需要一个权重计算，计算规则为距离的倒数比较。如，红色球距离预测点为1，一个篮球距离为3，另一个篮球距离是4，则篮球的距离为1/3+1/4=7/12，小于红色，所以红色获胜"
   ]
  },
  {
   "cell_type": "markdown",
   "metadata": {},
   "source": [
    "还有一种情况，还可能存在平票的问题，也同样可以使用距离权重来计算"
   ]
  },
  {
   "cell_type": "markdown",
   "metadata": {},
   "source": [
    "在KNeighborsClassifier的初始化里，是可以指定参数\"weights\"去考虑权重（默认是不使用的）,"
   ]
  },
  {
   "cell_type": "code",
   "execution_count": 21,
   "metadata": {},
   "outputs": [
    {
     "data": {
      "text/plain": [
       "\u001b[0;31mInit signature:\u001b[0m\n",
       "\u001b[0mKNeighborsClassifier\u001b[0m\u001b[0;34m(\u001b[0m\u001b[0;34m\u001b[0m\n",
       "\u001b[0;34m\u001b[0m    \u001b[0mn_neighbors\u001b[0m\u001b[0;34m=\u001b[0m\u001b[0;36m5\u001b[0m\u001b[0;34m,\u001b[0m\u001b[0;34m\u001b[0m\n",
       "\u001b[0;34m\u001b[0m    \u001b[0mweights\u001b[0m\u001b[0;34m=\u001b[0m\u001b[0;34m'uniform'\u001b[0m\u001b[0;34m,\u001b[0m\u001b[0;34m\u001b[0m\n",
       "\u001b[0;34m\u001b[0m    \u001b[0malgorithm\u001b[0m\u001b[0;34m=\u001b[0m\u001b[0;34m'auto'\u001b[0m\u001b[0;34m,\u001b[0m\u001b[0;34m\u001b[0m\n",
       "\u001b[0;34m\u001b[0m    \u001b[0mleaf_size\u001b[0m\u001b[0;34m=\u001b[0m\u001b[0;36m30\u001b[0m\u001b[0;34m,\u001b[0m\u001b[0;34m\u001b[0m\n",
       "\u001b[0;34m\u001b[0m    \u001b[0mp\u001b[0m\u001b[0;34m=\u001b[0m\u001b[0;36m2\u001b[0m\u001b[0;34m,\u001b[0m\u001b[0;34m\u001b[0m\n",
       "\u001b[0;34m\u001b[0m    \u001b[0mmetric\u001b[0m\u001b[0;34m=\u001b[0m\u001b[0;34m'minkowski'\u001b[0m\u001b[0;34m,\u001b[0m\u001b[0;34m\u001b[0m\n",
       "\u001b[0;34m\u001b[0m    \u001b[0mmetric_params\u001b[0m\u001b[0;34m=\u001b[0m\u001b[0;32mNone\u001b[0m\u001b[0;34m,\u001b[0m\u001b[0;34m\u001b[0m\n",
       "\u001b[0;34m\u001b[0m    \u001b[0mn_jobs\u001b[0m\u001b[0;34m=\u001b[0m\u001b[0;32mNone\u001b[0m\u001b[0;34m,\u001b[0m\u001b[0;34m\u001b[0m\n",
       "\u001b[0;34m\u001b[0m    \u001b[0;34m**\u001b[0m\u001b[0mkwargs\u001b[0m\u001b[0;34m,\u001b[0m\u001b[0;34m\u001b[0m\n",
       "\u001b[0;34m\u001b[0m\u001b[0;34m)\u001b[0m\u001b[0;34m\u001b[0m\u001b[0;34m\u001b[0m\u001b[0m\n",
       "\u001b[0;31mDocstring:\u001b[0m     \n",
       "Classifier implementing the k-nearest neighbors vote.\n",
       "\n",
       "Read more in the :ref:`User Guide <classification>`.\n",
       "\n",
       "Parameters\n",
       "----------\n",
       "n_neighbors : int, optional (default = 5)\n",
       "    Number of neighbors to use by default for :meth:`kneighbors` queries.\n",
       "\n",
       "weights : str or callable, optional (default = 'uniform')\n",
       "    weight function used in prediction.  Possible values:\n",
       "\n",
       "    - 'uniform' : uniform weights.  All points in each neighborhood\n",
       "      are weighted equally.\n",
       "    - 'distance' : weight points by the inverse of their distance.\n",
       "      in this case, closer neighbors of a query point will have a\n",
       "      greater influence than neighbors which are further away.\n",
       "    - [callable] : a user-defined function which accepts an\n",
       "      array of distances, and returns an array of the same shape\n",
       "      containing the weights.\n",
       "\n",
       "algorithm : {'auto', 'ball_tree', 'kd_tree', 'brute'}, optional\n",
       "    Algorithm used to compute the nearest neighbors:\n",
       "\n",
       "    - 'ball_tree' will use :class:`BallTree`\n",
       "    - 'kd_tree' will use :class:`KDTree`\n",
       "    - 'brute' will use a brute-force search.\n",
       "    - 'auto' will attempt to decide the most appropriate algorithm\n",
       "      based on the values passed to :meth:`fit` method.\n",
       "\n",
       "    Note: fitting on sparse input will override the setting of\n",
       "    this parameter, using brute force.\n",
       "\n",
       "leaf_size : int, optional (default = 30)\n",
       "    Leaf size passed to BallTree or KDTree.  This can affect the\n",
       "    speed of the construction and query, as well as the memory\n",
       "    required to store the tree.  The optimal value depends on the\n",
       "    nature of the problem.\n",
       "\n",
       "p : integer, optional (default = 2)\n",
       "    Power parameter for the Minkowski metric. When p = 1, this is\n",
       "    equivalent to using manhattan_distance (l1), and euclidean_distance\n",
       "    (l2) for p = 2. For arbitrary p, minkowski_distance (l_p) is used.\n",
       "\n",
       "metric : string or callable, default 'minkowski'\n",
       "    the distance metric to use for the tree.  The default metric is\n",
       "    minkowski, and with p=2 is equivalent to the standard Euclidean\n",
       "    metric. See the documentation of the DistanceMetric class for a\n",
       "    list of available metrics.\n",
       "\n",
       "metric_params : dict, optional (default = None)\n",
       "    Additional keyword arguments for the metric function.\n",
       "\n",
       "n_jobs : int or None, optional (default=None)\n",
       "    The number of parallel jobs to run for neighbors search.\n",
       "    ``None`` means 1 unless in a :obj:`joblib.parallel_backend` context.\n",
       "    ``-1`` means using all processors. See :term:`Glossary <n_jobs>`\n",
       "    for more details.\n",
       "    Doesn't affect :meth:`fit` method.\n",
       "\n",
       "Examples\n",
       "--------\n",
       ">>> X = [[0], [1], [2], [3]]\n",
       ">>> y = [0, 0, 1, 1]\n",
       ">>> from sklearn.neighbors import KNeighborsClassifier\n",
       ">>> neigh = KNeighborsClassifier(n_neighbors=3)\n",
       ">>> neigh.fit(X, y) # doctest: +ELLIPSIS\n",
       "KNeighborsClassifier(...)\n",
       ">>> print(neigh.predict([[1.1]]))\n",
       "[0]\n",
       ">>> print(neigh.predict_proba([[0.9]]))\n",
       "[[0.66666667 0.33333333]]\n",
       "\n",
       "See also\n",
       "--------\n",
       "RadiusNeighborsClassifier\n",
       "KNeighborsRegressor\n",
       "RadiusNeighborsRegressor\n",
       "NearestNeighbors\n",
       "\n",
       "Notes\n",
       "-----\n",
       "See :ref:`Nearest Neighbors <neighbors>` in the online documentation\n",
       "for a discussion of the choice of ``algorithm`` and ``leaf_size``.\n",
       "\n",
       ".. warning::\n",
       "\n",
       "   Regarding the Nearest Neighbors algorithms, if it is found that two\n",
       "   neighbors, neighbor `k+1` and `k`, have identical distances\n",
       "   but different labels, the results will depend on the ordering of the\n",
       "   training data.\n",
       "\n",
       "https://en.wikipedia.org/wiki/K-nearest_neighbor_algorithm\n",
       "\u001b[0;31mFile:\u001b[0m           /opt/conda/lib/python3.7/site-packages/sklearn/neighbors/classification.py\n",
       "\u001b[0;31mType:\u001b[0m           ABCMeta\n",
       "\u001b[0;31mSubclasses:\u001b[0m     \n"
      ]
     },
     "metadata": {},
     "output_type": "display_data"
    }
   ],
   "source": [
    "KNeighborsClassifier?"
   ]
  },
  {
   "cell_type": "markdown",
   "metadata": {},
   "source": [
    "要不要去考虑距离呢？"
   ]
  },
  {
   "cell_type": "code",
   "execution_count": 25,
   "metadata": {},
   "outputs": [
    {
     "data": {
      "text/plain": [
       "5"
      ]
     },
     "execution_count": 25,
     "metadata": {},
     "output_type": "execute_result"
    }
   ],
   "source": [
    "X_train, X_test, y_train, y_test = train_test_split(X, y, test_size=0.2, random_state=33)\n",
    "\n",
    "best_score = 0.0\n",
    "best_k = -1\n",
    "best_method = \"\"\n",
    "for method in ['uniform', 'distance']:\n",
    "    for k in range(1, 11):\n",
    "        knn_clf = KNeighborsClassifier(k)\n",
    "        knn_clf.fit(X_train, y_train)\n",
    "        score = knn_clf.score(X_test, y_test)\n",
    "        if score > best_score:\n",
    "            best_k = k\n",
    "            best_score = score\n",
    "            best_method = method\n",
    "best_k"
   ]
  },
  {
   "cell_type": "code",
   "execution_count": 26,
   "metadata": {},
   "outputs": [
    {
     "data": {
      "text/plain": [
       "'uniform'"
      ]
     },
     "execution_count": 26,
     "metadata": {},
     "output_type": "execute_result"
    }
   ],
   "source": [
    "best_method"
   ]
  },
  {
   "cell_type": "markdown",
   "metadata": {},
   "source": [
    "从上面测试可知，对于上面的这个问题是不需要考虑距离的"
   ]
  },
  {
   "cell_type": "markdown",
   "metadata": {},
   "source": [
    "在这之前讲的距离都是欧拉距离，在实际应用中，不止，还有曼哈顿距离等，具体需要用哪个也是需要调试的，所以距离p也是一个超参数"
   ]
  },
  {
   "cell_type": "markdown",
   "metadata": {},
   "source": [
    "在KNeighborsClassifier初始化的，有一个[metric](https://scikit-learn.org/stable/modules/generated/sklearn.neighbors.DistanceMetric.html#sklearn.neighbors.DistanceMetric)参数就是指定\"明科夫斯基距离\"(默认)，并且可以用p参数去指定具体的值使用哪种公式（1为manhattan，默认2为euclidean），前提是要开启上面讲的weights参数"
   ]
  },
  {
   "cell_type": "code",
   "execution_count": 37,
   "metadata": {},
   "outputs": [],
   "source": [
    "X_train, X_test, y_train, y_test = train_test_split(X, y, test_size=0.2, random_state=33)"
   ]
  },
  {
   "cell_type": "code",
   "execution_count": 61,
   "metadata": {},
   "outputs": [
    {
     "name": "stdout",
     "output_type": "stream",
     "text": [
      "best_p:4\n",
      "best_k:1\n",
      "best_score:0.9888888888888889\n",
      "CPU times: user 36.6 s, sys: 50 ms, total: 36.6 s\n",
      "Wall time: 36.6 s\n"
     ]
    }
   ],
   "source": [
    "%%time\n",
    "\n",
    "best_score = 0.0\n",
    "best_k = -1\n",
    "best_p = -1\n",
    "for k in range(1, 11):\n",
    "    for p in range(1, 6):\n",
    "        knn_clf = KNeighborsClassifier(n_neighbors=k, weights='distance', p=p, metric='minkowski')\n",
    "        knn_clf.fit(X_train, y_train)\n",
    "        score = knn_clf.score(X_test, y_test)\n",
    "        if score > best_score:\n",
    "            best_k = k\n",
    "            best_score = score\n",
    "            best_p = p\n",
    "            \n",
    "print('best_p:{}'.format(best_p))\n",
    "print('best_k:{}'.format(best_k))\n",
    "print('best_score:{}'.format(best_score))"
   ]
  },
  {
   "cell_type": "markdown",
   "metadata": {},
   "source": [
    "## Grid Search 网格搜索"
   ]
  },
  {
   "cell_type": "markdown",
   "metadata": {},
   "source": [
    "Grid Search：一种调参手段；穷举搜索：在所有候选的参数选择中，通过循环遍历，尝试每一种可能性，表现最好的参数就是最终的结果。其原理就像是在数组里找最大值。（为什么叫网格搜索？以有两个参数的模型为例，参数a有3种可能，参数b有4种可能，把所有可能性列出来，可以表示成一个3*4的表格，其中每个cell就是一个网格，循环过程就像是在每个网格里遍历、搜索，所以叫grid search）"
   ]
  },
  {
   "cell_type": "code",
   "execution_count": 47,
   "metadata": {},
   "outputs": [],
   "source": [
    "param_grid = [\n",
    "    {\n",
    "        'weights': ['uniform'], # 不开启距离权重\n",
    "        'n_neighbors': [k for k in range(1, 11)],\n",
    "    },\n",
    "    {\n",
    "        'weights': ['distance'],# 开启距离权重\n",
    "        'n_neighbors': [k for k in range(1, 11)],\n",
    "        'p': [p for p in range(1, 6)] # 使用的距离公式\n",
    "    }\n",
    "]"
   ]
  },
  {
   "cell_type": "code",
   "execution_count": 48,
   "metadata": {},
   "outputs": [],
   "source": [
    "from sklearn.model_selection import GridSearchCV"
   ]
  },
  {
   "cell_type": "code",
   "execution_count": 49,
   "metadata": {},
   "outputs": [],
   "source": [
    "# 创建一个默认的实例\n",
    "knn = KNeighborsClassifier()\n",
    "\n",
    "grid_search = GridSearchCV(knn, param_grid)"
   ]
  },
  {
   "cell_type": "code",
   "execution_count": 50,
   "metadata": {},
   "outputs": [
    {
     "name": "stderr",
     "output_type": "stream",
     "text": [
      "/opt/conda/lib/python3.7/site-packages/sklearn/model_selection/_split.py:1978: FutureWarning: The default value of cv will change from 3 to 5 in version 0.22. Specify it explicitly to silence this warning.\n",
      "  warnings.warn(CV_WARNING, FutureWarning)\n"
     ]
    },
    {
     "name": "stdout",
     "output_type": "stream",
     "text": [
      "CPU times: user 1min 40s, sys: 70 ms, total: 1min 40s\n",
      "Wall time: 1min 40s\n"
     ]
    },
    {
     "data": {
      "text/plain": [
       "GridSearchCV(cv='warn', error_score='raise-deprecating',\n",
       "             estimator=KNeighborsClassifier(algorithm='auto', leaf_size=30,\n",
       "                                            metric='minkowski',\n",
       "                                            metric_params=None, n_jobs=None,\n",
       "                                            n_neighbors=5, p=2,\n",
       "                                            weights='uniform'),\n",
       "             iid='warn', n_jobs=None,\n",
       "             param_grid=[{'n_neighbors': [1, 2, 3, 4, 5, 6, 7, 8, 9, 10],\n",
       "                          'weights': ['uniform']},\n",
       "                         {'n_neighbors': [1, 2, 3, 4, 5, 6, 7, 8, 9, 10],\n",
       "                          'p': [1, 2, 3, 4, 5], 'weights': ['distance']}],\n",
       "             pre_dispatch='2*n_jobs', refit=True, return_train_score=False,\n",
       "             scoring=None, verbose=0)"
      ]
     },
     "execution_count": 50,
     "metadata": {},
     "output_type": "execute_result"
    }
   ],
   "source": [
    "%%time\n",
    "grid_search.fit(X_train, y_train)"
   ]
  },
  {
   "cell_type": "markdown",
   "metadata": {},
   "source": [
    "在运行网搜索完后，使用best_estimator_ 查看最佳的参数组合"
   ]
  },
  {
   "cell_type": "code",
   "execution_count": 55,
   "metadata": {},
   "outputs": [
    {
     "data": {
      "text/plain": [
       "KNeighborsClassifier(algorithm='auto', leaf_size=30, metric='minkowski',\n",
       "                     metric_params=None, n_jobs=None, n_neighbors=1, p=3,\n",
       "                     weights='distance')"
      ]
     },
     "execution_count": 55,
     "metadata": {},
     "output_type": "execute_result"
    }
   ],
   "source": [
    "# 拿到分类器\n",
    "grid_search.best_estimator_"
   ]
  },
  {
   "cell_type": "code",
   "execution_count": 53,
   "metadata": {},
   "outputs": [
    {
     "data": {
      "text/plain": [
       "0.9895615866388309"
      ]
     },
     "execution_count": 53,
     "metadata": {},
     "output_type": "execute_result"
    }
   ],
   "source": [
    "grid_search.best_score_"
   ]
  },
  {
   "cell_type": "markdown",
   "metadata": {},
   "source": [
    "跟上面的结果不太一样，是因为机器学习算法好坏评判标准不一样"
   ]
  },
  {
   "cell_type": "code",
   "execution_count": 54,
   "metadata": {},
   "outputs": [
    {
     "data": {
      "text/plain": [
       "{'n_neighbors': 1, 'p': 3, 'weights': 'distance'}"
      ]
     },
     "execution_count": 54,
     "metadata": {},
     "output_type": "execute_result"
    }
   ],
   "source": [
    "grid_search.best_params_"
   ]
  },
  {
   "cell_type": "code",
   "execution_count": 60,
   "metadata": {},
   "outputs": [
    {
     "data": {
      "text/plain": [
       "array([1, 3, 7, 3, 2, 4, 6, 1, 4, 0, 4, 7, 8, 9, 2, 8, 3, 6, 7, 0, 6, 0,\n",
       "       8, 3, 0, 6, 2, 3, 0, 9, 0, 2, 0, 6, 9, 1, 1, 5, 8, 0, 6, 1, 5, 8,\n",
       "       9, 5, 1, 6, 2, 6, 6, 7, 6, 7, 7, 2, 7, 8, 0, 7, 3, 6, 3, 9, 6, 6,\n",
       "       5, 5, 4, 2, 1, 3, 7, 6, 5, 7, 2, 8, 1, 2, 2, 8, 1, 1, 6, 3, 5, 0,\n",
       "       0, 1, 6, 7, 6, 8, 9, 7, 0, 0, 9, 8, 0, 8, 2, 3, 6, 1, 9, 9, 1, 7,\n",
       "       8, 9, 8, 8, 5, 9, 5, 1, 1, 9, 9, 3, 3, 2, 8, 1, 3, 8, 6, 4, 0, 0,\n",
       "       0, 7, 1, 5, 5, 1, 8, 5, 1, 8, 8, 6, 9, 9, 4, 5, 7, 5, 2, 1, 2, 3,\n",
       "       8, 7, 7, 5, 1, 9, 1, 9, 8, 0, 6, 1, 2, 1, 3, 3, 8, 9, 6, 8, 4, 1,\n",
       "       0, 0, 9, 8, 7, 2, 8, 6, 4, 8, 9, 4, 2, 6, 1, 8, 5, 6, 7, 5, 1, 9,\n",
       "       2, 8, 3, 2, 9, 4, 8, 5, 5, 6, 2, 4, 3, 2, 6, 4, 8, 5, 8, 0, 8, 8,\n",
       "       6, 3, 2, 3, 0, 5, 7, 1, 3, 9, 3, 2, 1, 6, 6, 5, 1, 9, 7, 2, 4, 5,\n",
       "       2, 1, 3, 1, 1, 2, 1, 7, 0, 1, 2, 2, 1, 2, 4, 8, 6, 6, 3, 9, 2, 8,\n",
       "       1, 5, 5, 1, 8, 6, 2, 5, 6, 0, 1, 4, 2, 1, 8, 9, 4, 3, 0, 6, 8, 3,\n",
       "       3, 2, 0, 2, 5, 6, 5, 6, 6, 4, 6, 1, 8, 3, 4, 1, 3, 5, 1, 4, 9, 8,\n",
       "       7, 5, 1, 1, 3, 7, 1, 8, 3, 7, 4, 0, 7, 2, 9, 7, 1, 9, 4, 5, 3, 5,\n",
       "       2, 5, 1, 3, 0, 5, 8, 4, 7, 6, 9, 9, 3, 3, 4, 1, 6, 4, 7, 0, 6, 8,\n",
       "       2, 8, 3, 4, 5, 3, 3, 5])"
      ]
     },
     "execution_count": 60,
     "metadata": {},
     "output_type": "execute_result"
    }
   ],
   "source": [
    "# 拿到最佳的分类器\n",
    "knn_clf = grid_search.best_estimator_\n",
    "knn_clf.predict(X_test)"
   ]
  },
  {
   "cell_type": "code",
   "execution_count": 59,
   "metadata": {},
   "outputs": [
    {
     "data": {
      "text/plain": [
       "0.9833333333333333"
      ]
     },
     "execution_count": 59,
     "metadata": {},
     "output_type": "execute_result"
    }
   ],
   "source": [
    "knn_clf.score(X_test, y_test)"
   ]
  },
  {
   "cell_type": "markdown",
   "metadata": {},
   "source": [
    "GridSearchCV的原理就是利用传进去的param_grid创建多个分类器，然后分别跑出不通的结果作比较，这里也可以通过初始化GridSearchCV时做一些优化"
   ]
  },
  {
   "cell_type": "markdown",
   "metadata": {},
   "source": [
    "- n_jobs：启用机器的多核优势，提供并行运行，-1指自动根据机器来启动，也可以自己指定几核\n",
    "- verbose：指定在运行中，给出一些输出内容，给出一个整数，值越大，输出的内容越详细\n",
    "\n",
    "GridSearchCV(knn, param_grid, n_jobs=-1, verbose=2)"
   ]
  },
  {
   "cell_type": "markdown",
   "metadata": {},
   "source": [
    "## 数据归一化"
   ]
  },
  {
   "cell_type": "markdown",
   "metadata": {},
   "source": [
    "![](http://src.blog.oldsyang.com/images/machine-l/20191221220645.jpg)"
   ]
  },
  {
   "cell_type": "markdown",
   "metadata": {},
   "source": [
    "样本一和样本二间的距离为：sqrt((200-100)**2 + (1-5)**2)，可以发现样本间的距离完全受发现时间所主导 "
   ]
  },
  {
   "cell_type": "markdown",
   "metadata": {},
   "source": [
    "![](http://src.blog.oldsyang.com/images/machine-l/20191221222038.jpg)"
   ]
  },
  {
   "cell_type": "markdown",
   "metadata": {},
   "source": [
    "从上图又看出可以发现样本间的距离主要受肿瘤大小的影响"
   ]
  },
  {
   "cell_type": "markdown",
   "metadata": {},
   "source": [
    "所以要将所有数据映射到统一尺度上"
   ]
  },
  {
   "cell_type": "markdown",
   "metadata": {},
   "source": [
    "最常见的是***最值归一化 normalization***"
   ]
  },
  {
   "cell_type": "markdown",
   "metadata": {},
   "source": [
    "![](http://src.blog.oldsyang.com/images/machine-l/20191221222938.jpg)"
   ]
  },
  {
   "cell_type": "code",
   "execution_count": 65,
   "metadata": {},
   "outputs": [],
   "source": [
    "def Normalization(x):\n",
    "    return [(float(i)-min(x))/float(max(x)-min(x)) for i in x]"
   ]
  },
  {
   "cell_type": "markdown",
   "metadata": {},
   "source": [
    "最值归一化适用于分布有明显边界的情况；受outlier影响大。比如一个人的收入是100万，而大多数人工资为1万。则收入为100万的归值为1，而其他的人都在0.01这个值。这种情况下，则需要另外一种归一化：***均值方差归一化 standardization***"
   ]
  },
  {
   "cell_type": "markdown",
   "metadata": {},
   "source": [
    "![](http://src.blog.oldsyang.com/images/machine-l/20191221224610.jpg)"
   ]
  },
  {
   "cell_type": "markdown",
   "metadata": {},
   "source": [
    "### 最值归一化 normalization"
   ]
  },
  {
   "cell_type": "code",
   "execution_count": 112,
   "metadata": {},
   "outputs": [],
   "source": [
    "import numpy as np\n",
    "import matplotlib.pyplot as plt"
   ]
  },
  {
   "cell_type": "code",
   "execution_count": 143,
   "metadata": {},
   "outputs": [
    {
     "data": {
      "text/plain": [
       "array([ 2, 45, 30, 62, 70, 73, 30, 36, 61, 91, 94, 51, 60, 95, 28, 14, 97,\n",
       "       63, 16, 46, 39, 69, 82, 76, 79, 13, 69, 20, 11, 24, 20, 36, 48, 36,\n",
       "       94, 46, 47, 16, 77, 36, 26,  5, 42, 45, 33, 64, 94, 64, 27, 14, 38,\n",
       "       64, 92, 83,  2, 91, 34, 86, 27, 79, 38, 27, 80, 57, 83, 38,  9, 51,\n",
       "       77, 45,  2, 88, 63, 23, 11, 71, 54, 84, 47, 19, 40, 47, 21, 93, 99,\n",
       "       83,  5, 25, 89, 69,  4, 12, 60, 58, 18, 69, 20, 52, 25, 63])"
      ]
     },
     "execution_count": 143,
     "metadata": {},
     "output_type": "execute_result"
    }
   ],
   "source": [
    "np.random.seed(666)\n",
    "x = np.random.randint(0, 100, size=100)\n",
    "x"
   ]
  },
  {
   "cell_type": "code",
   "execution_count": 144,
   "metadata": {},
   "outputs": [
    {
     "data": {
      "text/plain": [
       "array([0.        , 0.44329897, 0.28865979, 0.6185567 , 0.70103093,\n",
       "       0.73195876, 0.28865979, 0.35051546, 0.60824742, 0.91752577,\n",
       "       0.94845361, 0.50515464, 0.59793814, 0.95876289, 0.26804124,\n",
       "       0.12371134, 0.97938144, 0.62886598, 0.1443299 , 0.45360825,\n",
       "       0.3814433 , 0.69072165, 0.82474227, 0.7628866 , 0.79381443,\n",
       "       0.11340206, 0.69072165, 0.18556701, 0.09278351, 0.22680412,\n",
       "       0.18556701, 0.35051546, 0.4742268 , 0.35051546, 0.94845361,\n",
       "       0.45360825, 0.46391753, 0.1443299 , 0.77319588, 0.35051546,\n",
       "       0.24742268, 0.03092784, 0.41237113, 0.44329897, 0.31958763,\n",
       "       0.63917526, 0.94845361, 0.63917526, 0.25773196, 0.12371134,\n",
       "       0.37113402, 0.63917526, 0.92783505, 0.83505155, 0.        ,\n",
       "       0.91752577, 0.32989691, 0.86597938, 0.25773196, 0.79381443,\n",
       "       0.37113402, 0.25773196, 0.80412371, 0.56701031, 0.83505155,\n",
       "       0.37113402, 0.07216495, 0.50515464, 0.77319588, 0.44329897,\n",
       "       0.        , 0.88659794, 0.62886598, 0.21649485, 0.09278351,\n",
       "       0.71134021, 0.53608247, 0.84536082, 0.46391753, 0.17525773,\n",
       "       0.39175258, 0.46391753, 0.19587629, 0.93814433, 1.        ,\n",
       "       0.83505155, 0.03092784, 0.2371134 , 0.89690722, 0.69072165,\n",
       "       0.02061856, 0.10309278, 0.59793814, 0.57731959, 0.16494845,\n",
       "       0.69072165, 0.18556701, 0.51546392, 0.2371134 , 0.62886598])"
      ]
     },
     "execution_count": 144,
     "metadata": {},
     "output_type": "execute_result"
    }
   ],
   "source": [
    "(x - np.min(x)) / (np.max(x) - np.min(x))"
   ]
  },
  {
   "cell_type": "code",
   "execution_count": 145,
   "metadata": {},
   "outputs": [
    {
     "data": {
      "text/plain": [
       "array([[91, 26],\n",
       "       [16, 68],\n",
       "       [78, 13],\n",
       "       [17, 58],\n",
       "       [74, 44],\n",
       "       [90, 79],\n",
       "       [42, 20],\n",
       "       [33, 39],\n",
       "       [37, 93],\n",
       "       [12, 82]])"
      ]
     },
     "execution_count": 145,
     "metadata": {},
     "output_type": "execute_result"
    }
   ],
   "source": [
    "# 对于矩阵的处理\n",
    "X = np.random.randint(0, 100, (50, 2))\n",
    "X[:10, :]"
   ]
  },
  {
   "cell_type": "code",
   "execution_count": 146,
   "metadata": {},
   "outputs": [
    {
     "data": {
      "text/plain": [
       "array([[91., 26.],\n",
       "       [16., 68.],\n",
       "       [78., 13.],\n",
       "       [17., 58.],\n",
       "       [74., 44.],\n",
       "       [90., 79.],\n",
       "       [42., 20.],\n",
       "       [33., 39.],\n",
       "       [37., 93.],\n",
       "       [12., 82.]])"
      ]
     },
     "execution_count": 146,
     "metadata": {},
     "output_type": "execute_result"
    }
   ],
   "source": [
    "X = np.array(X, dtype=float)\n",
    "X[:10, :]"
   ]
  },
  {
   "cell_type": "code",
   "execution_count": 154,
   "metadata": {},
   "outputs": [],
   "source": [
    "# 对第一行进行归一化\n",
    "# X[:, 0] = (X[:, 0] - np.min(X[:, 0])) / (np.max(X[:, 0]) - np.min(X[:, 0]))"
   ]
  },
  {
   "cell_type": "code",
   "execution_count": 147,
   "metadata": {},
   "outputs": [],
   "source": [
    "# 循环设置\n",
    "col_count = X.shape[1]\n",
    "for col in range(col_count):\n",
    "    X[:, col] = (X[:, col] - np.min(X[:, col])) / (np.max(X[:, col]) - np.min(X[:, col]))"
   ]
  },
  {
   "cell_type": "code",
   "execution_count": 148,
   "metadata": {},
   "outputs": [
    {
     "data": {
      "text/plain": [
       "array([1.        , 0.15730337, 0.85393258, 0.16853933, 0.80898876,\n",
       "       0.98876404, 0.4494382 , 0.34831461, 0.39325843, 0.11235955])"
      ]
     },
     "execution_count": 148,
     "metadata": {},
     "output_type": "execute_result"
    }
   ],
   "source": [
    "X[:10, 0]"
   ]
  },
  {
   "cell_type": "code",
   "execution_count": 149,
   "metadata": {},
   "outputs": [
    {
     "data": {
      "image/png": "[encoded data removed]",
      "text/plain": [
       "<Figure size 432x288 with 1 Axes>"
      ]
     },
     "metadata": {
      "needs_background": "light"
     },
     "output_type": "display_data"
    }
   ],
   "source": [
    "plt.scatter(X[:, 0], X[:, 1])\n",
    "plt.show()"
   ]
  },
  {
   "cell_type": "code",
   "execution_count": 150,
   "metadata": {},
   "outputs": [
    {
     "data": {
      "text/plain": [
       "0.5143820224719101"
      ]
     },
     "execution_count": 150,
     "metadata": {},
     "output_type": "execute_result"
    }
   ],
   "source": [
    "np.mean(X[:, 0])"
   ]
  },
  {
   "cell_type": "code",
   "execution_count": 151,
   "metadata": {},
   "outputs": [
    {
     "data": {
      "text/plain": [
       "0.3139020196971553"
      ]
     },
     "execution_count": 151,
     "metadata": {},
     "output_type": "execute_result"
    }
   ],
   "source": [
    "np.std(X[:, 0])"
   ]
  },
  {
   "cell_type": "code",
   "execution_count": 152,
   "metadata": {},
   "outputs": [
    {
     "data": {
      "text/plain": [
       "0.506875"
      ]
     },
     "execution_count": 152,
     "metadata": {},
     "output_type": "execute_result"
    }
   ],
   "source": [
    "np.mean(X[:, 1])"
   ]
  },
  {
   "cell_type": "code",
   "execution_count": 153,
   "metadata": {},
   "outputs": [
    {
     "data": {
      "text/plain": [
       "0.330578525404076"
      ]
     },
     "execution_count": 153,
     "metadata": {},
     "output_type": "execute_result"
    }
   ],
   "source": [
    "np.std(X[:, 1])"
   ]
  },
  {
   "cell_type": "markdown",
   "metadata": {},
   "source": [
    "### 均值方差归一化 standardization"
   ]
  },
  {
   "cell_type": "code",
   "execution_count": 11,
   "metadata": {},
   "outputs": [
    {
     "data": {
      "text/plain": [
       "array([60., 77., 22., 24., 88., 87., 91., 30.,  8., 95.])"
      ]
     },
     "execution_count": 11,
     "metadata": {},
     "output_type": "execute_result"
    }
   ],
   "source": [
    "import matplotlib.pyplot as plt\n",
    "X2 = np.random.randint(0, 100, (50, 2))\n",
    "X2 = np.array(X2, dtype=float)\n",
    "X2[:10, 0]"
   ]
  },
  {
   "cell_type": "code",
   "execution_count": 12,
   "metadata": {},
   "outputs": [],
   "source": [
    "# 循环设置\n",
    "col_count = X2.shape[1]\n",
    "for col in range(col_count):\n",
    "    X2[:, col] = (X2[:, col] - np.mean(X2[:, col])) / np.std(X2[:, col])"
   ]
  },
  {
   "cell_type": "code",
   "execution_count": 13,
   "metadata": {},
   "outputs": [
    {
     "data": {
      "text/plain": [
       "array([ 0.41236383,  0.99654592, -0.89345496, -0.82472766,  1.3745461 ,\n",
       "        1.34018245,  1.47763706, -0.61854574, -1.3745461 ,  1.61509167])"
      ]
     },
     "execution_count": 13,
     "metadata": {},
     "output_type": "execute_result"
    }
   ],
   "source": [
    "X2[:10, 0]"
   ]
  },
  {
   "cell_type": "code",
   "execution_count": 14,
   "metadata": {},
   "outputs": [
    {
     "data": {
      "image/png": "[encoded data removed]",
      "text/plain": [
       "<Figure size 432x288 with 1 Axes>"
      ]
     },
     "metadata": {
      "needs_background": "light"
     },
     "output_type": "display_data"
    }
   ],
   "source": [
    "plt.scatter(X2[:, 0], X2[:, 1])\n",
    "plt.show()"
   ]
  },
  {
   "cell_type": "code",
   "execution_count": 15,
   "metadata": {},
   "outputs": [
    {
     "data": {
      "text/plain": [
       "1.3322676295501878e-17"
      ]
     },
     "execution_count": 15,
     "metadata": {},
     "output_type": "execute_result"
    }
   ],
   "source": [
    "np.mean(X2[:, 0])"
   ]
  },
  {
   "cell_type": "code",
   "execution_count": 31,
   "metadata": {},
   "outputs": [
    {
     "data": {
      "text/plain": [
       "1.0"
      ]
     },
     "execution_count": 31,
     "metadata": {},
     "output_type": "execute_result"
    }
   ],
   "source": [
    "np.std(X2[:, 0])"
   ]
  },
  {
   "cell_type": "code",
   "execution_count": 50,
   "metadata": {},
   "outputs": [
    {
     "data": {
      "text/plain": [
       "1.0101525445522108"
      ]
     },
     "execution_count": 50,
     "metadata": {},
     "output_type": "execute_result"
    }
   ],
   "source": [
    "np.std(X2[:, 0], ddof=1)"
   ]
  },
  {
   "cell_type": "code",
   "execution_count": 51,
   "metadata": {},
   "outputs": [
    {
     "data": {
      "text/plain": [
       "0    1.010153\n",
       "dtype: float64"
      ]
     },
     "execution_count": 51,
     "metadata": {},
     "output_type": "execute_result"
    }
   ],
   "source": [
    "import pandas as pd\n",
    "cc = pd.DataFrame(X2[: ,0])\n",
    "cc.std()"
   ]
  },
  {
   "cell_type": "code",
   "execution_count": 53,
   "metadata": {},
   "outputs": [
    {
     "data": {
      "text/plain": [
       "4.884981308350689e-17"
      ]
     },
     "execution_count": 53,
     "metadata": {},
     "output_type": "execute_result"
    }
   ],
   "source": [
    "np.mean(X2[:, 1])"
   ]
  },
  {
   "cell_type": "code",
   "execution_count": 54,
   "metadata": {},
   "outputs": [
    {
     "data": {
      "text/plain": [
       "1.0"
      ]
     },
     "execution_count": 54,
     "metadata": {},
     "output_type": "execute_result"
    }
   ],
   "source": [
    "np.std(X2[:, 1])"
   ]
  },
  {
   "cell_type": "markdown",
   "metadata": {},
   "source": [
    "这样就形成了一个均值（中心值）为0，标准差（分布幅度）为1的数据，即使有大的偏离原始数据，也不会有偏值"
   ]
  },
  {
   "cell_type": "markdown",
   "metadata": {},
   "source": [
    "在训练时候得到的均值和方差，应该适用于之后的测试数据集"
   ]
  },
  {
   "cell_type": "markdown",
   "metadata": {},
   "source": [
    "![](http://src.blog.oldsyang.com/images/machine-l/20191222005809.jpg)"
   ]
  },
  {
   "cell_type": "markdown",
   "metadata": {},
   "source": [
    "## sklearn中的Scaler"
   ]
  },
  {
   "cell_type": "markdown",
   "metadata": {},
   "source": [
    "![](http://src.blog.oldsyang.com/images/machine-l/20191222010047.jpg)"
   ]
  },
  {
   "cell_type": "code",
   "execution_count": 182,
   "metadata": {},
   "outputs": [],
   "source": [
    "import numpy as np\n",
    "from sklearn.model_selection import train_test_split\n",
    "from sklearn import datasets"
   ]
  },
  {
   "cell_type": "code",
   "execution_count": 205,
   "metadata": {},
   "outputs": [],
   "source": [
    "iris = datasets.load_iris()\n",
    "X = digits.data\n",
    "y = digits.target\n",
    "X_train, X_test, y_train, y_test = train_test_split(X, y, test_size=0.2, random_state=33)"
   ]
  },
  {
   "cell_type": "markdown",
   "metadata": {},
   "source": [
    "### StandardScaler"
   ]
  },
  {
   "cell_type": "code",
   "execution_count": 206,
   "metadata": {},
   "outputs": [
    {
     "data": {
      "text/plain": [
       "StandardScaler(copy=True, with_mean=True, with_std=True)"
      ]
     },
     "execution_count": 206,
     "metadata": {},
     "output_type": "execute_result"
    }
   ],
   "source": [
    "# 均值方差归一化\n",
    "from sklearn.preprocessing import StandardScaler\n",
    "standardscaler = StandardScaler()\n",
    "standardscaler.fit(X_train)"
   ]
  },
  {
   "cell_type": "code",
   "execution_count": 207,
   "metadata": {},
   "outputs": [
    {
     "data": {
      "text/plain": [
       "array([0.00000000e+00, 3.04105776e-01, 5.15309673e+00, 1.18364649e+01,\n",
       "       1.18997912e+01, 5.79749478e+00, 1.38065414e+00, 1.25260960e-01,\n",
       "       5.56715379e-03, 1.98469033e+00, 1.03061935e+01, 1.20389701e+01,\n",
       "       1.03159360e+01, 8.16423104e+00, 1.87752262e+00, 1.14126653e-01,\n",
       "       3.47947112e-03, 2.63256785e+00, 9.89074461e+00, 6.91788448e+00,\n",
       "       7.06819763e+00, 7.80027836e+00, 1.82950592e+00, 5.21920668e-02,\n",
       "       1.39178845e-03, 2.50034795e+00, 9.12386917e+00, 8.83368128e+00,\n",
       "       9.90883786e+00, 7.67223382e+00, 2.42379958e+00, 2.08768267e-03,\n",
       "       0.00000000e+00, 2.42797495e+00, 7.69380654e+00, 8.99721642e+00,\n",
       "       1.02032011e+01, 8.85455811e+00, 2.98747390e+00, 0.00000000e+00,\n",
       "       1.11343076e-02, 1.64439805e+00, 6.94502436e+00, 7.32011134e+00,\n",
       "       7.64231037e+00, 8.23034099e+00, 3.48573417e+00, 2.08768267e-02,\n",
       "       9.04662491e-03, 6.91022965e-01, 7.54627697e+00, 9.56158664e+00,\n",
       "       9.52679193e+00, 8.67988866e+00, 3.66527488e+00, 1.89283229e-01,\n",
       "       6.95894224e-04, 2.82533055e-01, 5.50382742e+00, 1.20619346e+01,\n",
       "       1.17654836e+01, 6.63187196e+00, 1.99860821e+00, 3.43771747e-01])"
      ]
     },
     "execution_count": 207,
     "metadata": {},
     "output_type": "execute_result"
    }
   ],
   "source": [
    "# 均值\n",
    "standardscaler.mean_"
   ]
  },
  {
   "cell_type": "code",
   "execution_count": 208,
   "metadata": {},
   "outputs": [
    {
     "data": {
      "text/plain": [
       "array([1.        , 0.91917854, 4.74340319, 4.21570194, 4.26354895,\n",
       "       5.68618386, 3.31576255, 1.00778218, 0.0912126 , 3.18438946,\n",
       "       5.47616299, 3.93066364, 4.75177622, 5.99705573, 3.64179366,\n",
       "       0.84468259, 0.06970762, 3.59366138, 5.64058307, 5.8220127 ,\n",
       "       6.15612897, 6.18592021, 3.31223969, 0.45468687, 0.03728071,\n",
       "       3.13722901, 6.18514795, 5.87347752, 6.15826175, 5.85635415,\n",
       "       3.7665807 , 0.04564345, 1.        , 3.55176409, 6.30180823,\n",
       "       6.32004185, 5.98436058, 5.87237275, 3.55293742, 1.        ,\n",
       "       0.16223442, 3.08240877, 6.53956732, 6.49676054, 6.29832176,\n",
       "       5.68952921, 4.32942044, 0.25490825, 0.22827664, 1.71017956,\n",
       "       5.64812386, 5.20570585, 5.33043274, 6.04522211, 4.89315182,\n",
       "       0.92987041, 0.02637063, 0.96106948, 5.09582695, 4.33267656,\n",
       "       4.97481255, 5.91709484, 4.03309182, 1.82425031])"
      ]
     },
     "execution_count": 208,
     "metadata": {},
     "output_type": "execute_result"
    }
   ],
   "source": [
    "# 标准差(描述数据的分布范围)\n",
    "standardscaler.scale_"
   ]
  },
  {
   "cell_type": "code",
   "execution_count": 209,
   "metadata": {},
   "outputs": [],
   "source": [
    "# X_train 并没有发生变化，需要重新赋值一下\n",
    "X_train = standardscaler.transform(X_train)"
   ]
  },
  {
   "cell_type": "code",
   "execution_count": 210,
   "metadata": {},
   "outputs": [
    {
     "data": {
      "text/plain": [
       "array([[ 0.        ,  0.75708275,  1.2326389 , ...,  1.07622545,\n",
       "         3.47162733,  2.55240645],\n",
       "       [ 0.        , -0.33084516,  0.38936249, ..., -1.12079866,\n",
       "        -0.49555237, -0.18844549],\n",
       "       [ 0.        , -0.33084516,  0.81100069, ...,  0.40021803,\n",
       "        -0.49555237, -0.18844549],\n",
       "       ...,\n",
       "       [ 0.        , -0.33084516, -0.24309482, ..., -1.12079866,\n",
       "        -0.49555237, -0.18844549],\n",
       "       [ 0.        , -0.33084516,  1.443458  , ..., -1.12079866,\n",
       "        -0.49555237, -0.18844549],\n",
       "       [ 0.        ,  0.75708275,  0.38936249, ..., -1.12079866,\n",
       "        -0.49555237, -0.18844549]])"
      ]
     },
     "execution_count": 210,
     "metadata": {},
     "output_type": "execute_result"
    }
   ],
   "source": [
    "X_train"
   ]
  },
  {
   "cell_type": "code",
   "execution_count": 215,
   "metadata": {},
   "outputs": [],
   "source": [
    "# 测试数据集也必须归一化处理\n",
    "X_test_standard = standardscaler.transform(X_test)"
   ]
  },
  {
   "cell_type": "code",
   "execution_count": 212,
   "metadata": {},
   "outputs": [],
   "source": [
    "from sklearn.neighbors import KNeighborsClassifier"
   ]
  },
  {
   "cell_type": "code",
   "execution_count": 213,
   "metadata": {},
   "outputs": [
    {
     "data": {
      "text/plain": [
       "KNeighborsClassifier(algorithm='auto', leaf_size=30, metric='minkowski',\n",
       "                     metric_params=None, n_jobs=None, n_neighbors=5, p=2,\n",
       "                     weights='uniform')"
      ]
     },
     "execution_count": 213,
     "metadata": {},
     "output_type": "execute_result"
    }
   ],
   "source": [
    "knn = KNeighborsClassifier()\n",
    "knn.fit(X_train, y_train)"
   ]
  },
  {
   "cell_type": "code",
   "execution_count": 214,
   "metadata": {},
   "outputs": [
    {
     "data": {
      "text/plain": [
       "0.975"
      ]
     },
     "execution_count": 214,
     "metadata": {},
     "output_type": "execute_result"
    }
   ],
   "source": [
    "knn.score(X_test_standard, y_test)"
   ]
  },
  {
   "cell_type": "markdown",
   "metadata": {},
   "source": [
    "### 实现StandardScaler"
   ]
  },
  {
   "cell_type": "markdown",
   "metadata": {},
   "source": [
    "在lib增加一个preprocessing.py，代码如下:"
   ]
  },
  {
   "cell_type": "code",
   "execution_count": 2,
   "metadata": {},
   "outputs": [],
   "source": [
    "import numpy as np\n",
    "\n",
    "class StandardScaler:\n",
    "\n",
    "    def __init__(self):\n",
    "        self.mean_ = None\n",
    "        self.scale_ = None\n",
    "\n",
    "    def fit(self, X):\n",
    "        \"\"\"根据训练数据集X获得数据的均值和方差\"\"\"\n",
    "        assert X.ndim == 2, \"The dimension of X must be 2\"\n",
    "\n",
    "        self.mean_ = np.array([np.mean(X[:,i]) for i in range(X.shape[1])])\n",
    "        self.scale_ = np.array([np.std(X[:,i]) for i in range(X.shape[1])])\n",
    "\n",
    "        return self\n",
    "\n",
    "    def transform(self, X):\n",
    "        \"\"\"将X根据这个StandardScaler进行均值方差归一化处理\"\"\"\n",
    "        assert X.ndim == 2, \"The dimension of X must be 2\"\n",
    "        assert self.mean_ is not None and self.scale_ is not None, \\\n",
    "               \"must fit before transform!\"\n",
    "        assert X.shape[1] == len(self.mean_), \\\n",
    "               \"the feature number of X must be equal to mean_ and std_\"\n",
    "\n",
    "        resX = np.empty(shape=X.shape, dtype=float)\n",
    "        for col in range(X.shape[1]):\n",
    "            resX[:,col] = (X[:,col] - self.mean_[col]) / self.scale_[col]\n",
    "        return resX"
   ]
  },
  {
   "cell_type": "markdown",
   "metadata": {},
   "source": [
    "## K领近算法总结"
   ]
  },
  {
   "cell_type": "markdown",
   "metadata": {},
   "source": [
    "![](http://src.blog.oldsyang.com/images/machine-l/20191222153835.jpg)"
   ]
  },
  {
   "cell_type": "code",
   "execution_count": 3,
   "metadata": {},
   "outputs": [],
   "source": [
    "import numpy as np"
   ]
  },
  {
   "cell_type": "code",
   "execution_count": 46,
   "metadata": {},
   "outputs": [
    {
     "data": {
      "text/plain": [
       "0.6666666666666666"
      ]
     },
     "execution_count": 46,
     "metadata": {},
     "output_type": "execute_result"
    }
   ],
   "source": [
    "C = np.array([1, 2, 3])\n",
    "(1/C.size) * sum((C - C.mean())**2)"
   ]
  },
  {
   "cell_type": "code",
   "execution_count": 49,
   "metadata": {},
   "outputs": [
    {
     "data": {
      "text/plain": [
       "0.6666666666666666"
      ]
     },
     "execution_count": 49,
     "metadata": {},
     "output_type": "execute_result"
    }
   ],
   "source": [
    "C.var()"
   ]
  },
  {
   "cell_type": "code",
   "execution_count": 4,
   "metadata": {},
   "outputs": [
    {
     "data": {
      "text/plain": [
       "0.816496580927726"
      ]
     },
     "execution_count": 4,
     "metadata": {},
     "output_type": "execute_result"
    }
   ],
   "source": [
    "np.std([1, 2, 3])"
   ]
  },
  {
   "cell_type": "code",
   "execution_count": 5,
   "metadata": {},
   "outputs": [
    {
     "data": {
      "text/plain": [
       "1.0"
      ]
     },
     "execution_count": 5,
     "metadata": {},
     "output_type": "execute_result"
    }
   ],
   "source": [
    "np.std([1, 2, 3], ddof=1)"
   ]
  },
  {
   "cell_type": "code",
   "execution_count": 55,
   "metadata": {},
   "outputs": [],
   "source": [
    "import sklearn"
   ]
  },
  {
   "cell_type": "code",
   "execution_count": 56,
   "metadata": {},
   "outputs": [
    {
     "data": {
      "text/plain": [
       "'0.21.3'"
      ]
     },
     "execution_count": 56,
     "metadata": {},
     "output_type": "execute_result"
    }
   ],
   "source": [
    "sklearn.__version__"
   ]
  },
  {
   "cell_type": "code",
   "execution_count": 57,
   "metadata": {},
   "outputs": [
    {
     "data": {
      "text/plain": [
       "784"
      ]
     },
     "execution_count": 57,
     "metadata": {},
     "output_type": "execute_result"
    }
   ],
   "source": [
    "28*28"
   ]
  },
  {
   "cell_type": "code",
   "execution_count": null,
   "metadata": {},
   "outputs": [],
   "source": []
  }
 ],
 "metadata": {
  "kernelspec": {
   "display_name": "Python 3",
   "language": "python",
   "name": "python3"
  },
  "language_info": {
   "codemirror_mode": {
    "name": "ipython",
    "version": 3
   },
   "file_extension": ".py",
   "mimetype": "text/x-python",
   "name": "python",
   "nbconvert_exporter": "python",
   "pygments_lexer": "ipython3",
   "version": "3.7.0"
  }
 },
 "nbformat": 4,
 "nbformat_minor": 4
}
